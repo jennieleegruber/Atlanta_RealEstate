{
 "cells": [
  {
   "cell_type": "code",
   "execution_count": null,
   "metadata": {},
   "outputs": [],
   "source": [
    "#refrence 04 - Pandas / Day 3 / Activity 05: Ins - Mapping"
   ]
  },
  {
   "cell_type": "code",
   "execution_count": 1,
   "metadata": {},
   "outputs": [],
   "source": [
    "import pandas as pd"
   ]
  },
  {
   "cell_type": "code",
   "execution_count": 76,
   "metadata": {},
   "outputs": [
    {
     "data": {
      "text/plain": [
       "array(['accessories', 'African Imports', 'alcohol', 'bakery', 'beauty',\n",
       "       'beverages', 'bicycle', 'books', 'boutique', 'car', 'car_parts',\n",
       "       'car_repair', 'clothes', 'computer', 'confectionery',\n",
       "       'convenience', 'copyshop', 'cosmetics', 'craft', 'custom T-shirts',\n",
       "       'deli', 'department_store', 'discount', 'doityourself',\n",
       "       'dry_cleaning', 'electronics', 'erotic', 'fishmonger', 'florist',\n",
       "       'frame', 'fresh juices & smoothies', 'frozen yogurt',\n",
       "       'Frozen Yogurt', 'funeral_directors', 'furniture', 'gallery',\n",
       "       'gift', 'glam shop', 'hairdresser', 'hardware', 'headshop', 'hifi',\n",
       "       'hookah bar', 'household', 'houseware', 'ice_cream', 'Insurance',\n",
       "       'interior_decoration', 'jewelry', 'kitchen', 'laundry',\n",
       "       'locksmith', 'mall', 'massage', 'mobile_phone', 'money_lender',\n",
       "       'motorcycle', 'music', 'nail shop', 'new_age', 'optician',\n",
       "       'outdoor', 'party', 'pet', 'piercing', 'religion', 'second_hand',\n",
       "       'shoes', 'skateshop', 'sports', 'stationery', 'supermarket',\n",
       "       'tailor', 'tattoo', 'ticket', 'tires', 'tobacco', 'toys',\n",
       "       'travel_agency', 'tyres', 'variety_store', 'video', 'wigs', 'wine',\n",
       "       'yes'], dtype=object)"
      ]
     },
     "execution_count": 76,
     "metadata": {},
     "output_type": "execute_result"
    }
   ],
   "source": [
    "file = \"atlanta_shops/shop_point.csv\"\n",
    "data = pd.read_csv(file)\n",
    "atlanta_poi = data[['X','Y','shop','name','addr:postcode']]\n",
    "atlanta_poi['shop'].unique()"
   ]
  },
  {
   "cell_type": "code",
   "execution_count": null,
   "metadata": {},
   "outputs": [],
   "source": [
    "#Subsets of Atlanta Points of Interest\n",
    "#1: alc_shops - includes both wine and alcohol shops \n",
    "#2: food_shops - bakery, confectionery, deli, frozen yogurt, Frozen Yogurt, ice_cream"
   ]
  },
  {
   "cell_type": "code",
   "execution_count": 77,
   "metadata": {},
   "outputs": [
    {
     "data": {
      "text/html": [
       "<div>\n",
       "<style scoped>\n",
       "    .dataframe tbody tr th:only-of-type {\n",
       "        vertical-align: middle;\n",
       "    }\n",
       "\n",
       "    .dataframe tbody tr th {\n",
       "        vertical-align: top;\n",
       "    }\n",
       "\n",
       "    .dataframe thead th {\n",
       "        text-align: right;\n",
       "    }\n",
       "</style>\n",
       "<table border=\"1\" class=\"dataframe\">\n",
       "  <thead>\n",
       "    <tr style=\"text-align: right;\">\n",
       "      <th></th>\n",
       "      <th>X</th>\n",
       "      <th>Y</th>\n",
       "      <th>shop</th>\n",
       "      <th>name</th>\n",
       "      <th>addr:postcode</th>\n",
       "    </tr>\n",
       "  </thead>\n",
       "  <tbody>\n",
       "    <tr>\n",
       "      <th>2</th>\n",
       "      <td>-84.358365</td>\n",
       "      <td>33.740456</td>\n",
       "      <td>alcohol</td>\n",
       "      <td>3 Parks</td>\n",
       "      <td>NaN</td>\n",
       "    </tr>\n",
       "    <tr>\n",
       "      <th>3</th>\n",
       "      <td>-84.413797</td>\n",
       "      <td>33.809196</td>\n",
       "      <td>alcohol</td>\n",
       "      <td>Capital City Liquor Store</td>\n",
       "      <td>30318</td>\n",
       "    </tr>\n",
       "    <tr>\n",
       "      <th>4</th>\n",
       "      <td>-84.362881</td>\n",
       "      <td>33.773527</td>\n",
       "      <td>alcohol</td>\n",
       "      <td>Green's Package Store</td>\n",
       "      <td>NaN</td>\n",
       "    </tr>\n",
       "  </tbody>\n",
       "</table>\n",
       "</div>"
      ],
      "text/plain": [
       "           X          Y     shop                       name addr:postcode\n",
       "2 -84.358365  33.740456  alcohol                    3 Parks           NaN\n",
       "3 -84.413797  33.809196  alcohol  Capital City Liquor Store         30318\n",
       "4 -84.362881  33.773527  alcohol      Green's Package Store           NaN"
      ]
     },
     "execution_count": 77,
     "metadata": {},
     "output_type": "execute_result"
    }
   ],
   "source": [
    "alc_shops = atlanta_poi.loc[(atlanta_poi['shop']=='alcohol') | (atlanta_poi['shop']=='wine')]\n",
    "alc_shops.head(3)"
   ]
  },
  {
   "cell_type": "code",
   "execution_count": 81,
   "metadata": {},
   "outputs": [
    {
     "data": {
      "text/html": [
       "<div>\n",
       "<style scoped>\n",
       "    .dataframe tbody tr th:only-of-type {\n",
       "        vertical-align: middle;\n",
       "    }\n",
       "\n",
       "    .dataframe tbody tr th {\n",
       "        vertical-align: top;\n",
       "    }\n",
       "\n",
       "    .dataframe thead th {\n",
       "        text-align: right;\n",
       "    }\n",
       "</style>\n",
       "<table border=\"1\" class=\"dataframe\">\n",
       "  <thead>\n",
       "    <tr style=\"text-align: right;\">\n",
       "      <th></th>\n",
       "      <th>X</th>\n",
       "      <th>Y</th>\n",
       "      <th>shop</th>\n",
       "      <th>name</th>\n",
       "      <th>addr:postcode</th>\n",
       "    </tr>\n",
       "  </thead>\n",
       "  <tbody>\n",
       "    <tr>\n",
       "      <th>14</th>\n",
       "      <td>-84.352826</td>\n",
       "      <td>33.792625</td>\n",
       "      <td>bakery</td>\n",
       "      <td>Alon's</td>\n",
       "      <td>NaN</td>\n",
       "    </tr>\n",
       "    <tr>\n",
       "      <th>15</th>\n",
       "      <td>-84.387839</td>\n",
       "      <td>33.761818</td>\n",
       "      <td>bakery</td>\n",
       "      <td>Corner Bakery Cafe</td>\n",
       "      <td>30303</td>\n",
       "    </tr>\n",
       "    <tr>\n",
       "      <th>16</th>\n",
       "      <td>-84.346507</td>\n",
       "      <td>33.740036</td>\n",
       "      <td>bakery</td>\n",
       "      <td>Emerald City Bagels</td>\n",
       "      <td>30316</td>\n",
       "    </tr>\n",
       "  </tbody>\n",
       "</table>\n",
       "</div>"
      ],
      "text/plain": [
       "            X          Y    shop                 name addr:postcode\n",
       "14 -84.352826  33.792625  bakery              Alon's            NaN\n",
       "15 -84.387839  33.761818  bakery   Corner Bakery Cafe         30303\n",
       "16 -84.346507  33.740036  bakery  Emerald City Bagels         30316"
      ]
     },
     "execution_count": 81,
     "metadata": {},
     "output_type": "execute_result"
    }
   ],
   "source": [
    "food_shops = atlanta_poi.loc[(atlanta_poi['shop']=='bakery') | (atlanta_poi['shop']=='confectionery')\\\n",
    "                            | (atlanta_poi['shop']=='deli') | (atlanta_poi['shop']=='frozen yogurt')\\\n",
    "                            | (atlanta_poi['shop']=='Frozen Yogurt')| (atlanta_poi['shop']=='ice_cream')]\n",
    "food_shops.head(3)"
   ]
  },
  {
   "cell_type": "code",
   "execution_count": null,
   "metadata": {},
   "outputs": [],
   "source": []
  }
 ],
 "metadata": {
  "kernelspec": {
   "display_name": "Python 3",
   "language": "python",
   "name": "python3"
  },
  "language_info": {
   "codemirror_mode": {
    "name": "ipython",
    "version": 3
   },
   "file_extension": ".py",
   "mimetype": "text/x-python",
   "name": "python",
   "nbconvert_exporter": "python",
   "pygments_lexer": "ipython3",
   "version": "3.8.3"
  }
 },
 "nbformat": 4,
 "nbformat_minor": 4
}
